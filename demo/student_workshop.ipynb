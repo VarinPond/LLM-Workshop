{
 "cells": [
  {
   "cell_type": "markdown",
   "id": "6e05dce9",
   "metadata": {},
   "source": [
    "# RAG"
   ]
  },
  {
   "cell_type": "code",
   "execution_count": 1,
   "id": "e1bf5d2a",
   "metadata": {},
   "outputs": [
    {
     "data": {
      "text/plain": [
       "True"
      ]
     },
     "execution_count": 1,
     "metadata": {},
     "output_type": "execute_result"
    }
   ],
   "source": [
    "import openai\n",
    "import os\n",
    "from dotenv import load_dotenv\n",
    "\n",
    "load_dotenv()"
   ]
  },
  {
   "cell_type": "code",
   "execution_count": 2,
   "id": "daa167a8",
   "metadata": {},
   "outputs": [
    {
     "name": "stderr",
     "output_type": "stream",
     "text": [
      "/opt/miniconda3/envs/tax/lib/python3.10/site-packages/tqdm/auto.py:21: TqdmWarning: IProgress not found. Please update jupyter and ipywidgets. See https://ipywidgets.readthedocs.io/en/stable/user_install.html\n",
      "  from .autonotebook import tqdm as notebook_tqdm\n"
     ]
    }
   ],
   "source": [
    "from lawbuddy.rag import SimpleRagPipeline, Hybrid, Hyde, QueryTransformType\n",
    "\n",
    "pipeline = SimpleRagPipeline.from_api(\n",
    "    model=\"typhoon-v2-70b-instruct\",\n",
    "    api_base=\"https://api.opentyphoon.ai/v1\",\n",
    "    context_window=8192,\n",
    "    is_chat_model=True,\n",
    "    max_tokens=768*2,\n",
    "    is_function_calling_model=False,\n",
    "    api_key=os.getenv(\"TYPHOON_API_KEY\"))\n",
    "# pipeline.create_vector_store(csv_paths=['student_rules.csv'], save_dir=\"spaces/simple_rag_student_rules\")\n",
    "pipeline.load_vector_store(path=\"spaces/simple_rag_student_rules\")"
   ]
  },
  {
   "cell_type": "code",
   "execution_count": 3,
   "id": "6b6e45d3",
   "metadata": {},
   "outputs": [
    {
     "name": "stdout",
     "output_type": "stream",
     "text": [
      "----------------------Retrieved nodes:----------------------\n",
      "Score: 7.0\n",
      ": 0\n",
      "ข้อที่: 3\n",
      "เนื้อหา: เปิดแอร์ได้ตั้งแต่เที่ยงถึงเที่ยงคืน\n",
      "\n",
      "Score: 4.0\n",
      ": 0\n",
      "ข้อที่: 2\n",
      "เนื้อหา: พาเพื่อนข้างนอกมาห้องได้มากที่สุด 2 คน\n",
      "\n",
      "------------------------------------------------------------\n",
      "ตามมาตราที่ 3 คุณสามารถเปิดแอร์ได้ตั้งแต่เที่ยงถึงเที่ยงคืน ดังนั้นคุณสามารถเปิดแอร์ได้ในช่วงเวลาดังกล่าวครับ\n"
     ]
    }
   ],
   "source": [
    "query = \"\"\"\n",
    "อยากเปิดแอร์ครับ\n",
    "\"\"\"\n",
    "response = pipeline.query(query, verbose=True)\n",
    "print(response.text)"
   ]
  },
  {
   "cell_type": "code",
   "execution_count": 5,
   "id": "5bf67a0a",
   "metadata": {},
   "outputs": [
    {
     "name": "stdout",
     "output_type": "stream",
     "text": [
      "<class 'str'>\n"
     ]
    }
   ],
   "source": [
    "print(type(response.text))"
   ]
  },
  {
   "cell_type": "markdown",
   "id": "5a1a8997",
   "metadata": {},
   "source": [
    "# Hybrid Search"
   ]
  },
  {
   "cell_type": "code",
   "execution_count": 3,
   "id": "deb1e1c3",
   "metadata": {},
   "outputs": [
    {
     "name": "stderr",
     "output_type": "stream",
     "text": [
      "Parsing nodes: 100%|██████████| 4/4 [00:00<00:00, 2164.24it/s]\n",
      "Generating embeddings: 100%|██████████| 4/4 [00:01<00:00,  3.98it/s]\n"
     ]
    }
   ],
   "source": [
    "from lawbuddy.rag import SimpleRagPipeline, Hybrid, Hyde, QueryTransformType\n",
    "\n",
    "pipeline = Hybrid.from_api(\n",
    "    model=\"typhoon-v2-70b-instruct\",\n",
    "    api_base=\"https://api.opentyphoon.ai/v1\",\n",
    "    context_window=8192,\n",
    "    is_chat_model=True,\n",
    "    max_tokens=768*2,\n",
    "    is_function_calling_model=False,\n",
    "    api_key=os.getenv(\"TYPHOON_API_KEY\"))\n",
    "\n",
    "pipeline.create_vector_store(csv_paths=['student_rules.csv'], save_dir=\"spaces/hybrid_rag_student_rules\")\n",
    "pipeline.load_vector_store(path=\"spaces/hybrid_rag_student_rules\")"
   ]
  },
  {
   "cell_type": "code",
   "execution_count": 4,
   "id": "3563c7e6",
   "metadata": {},
   "outputs": [
    {
     "name": "stdout",
     "output_type": "stream",
     "text": [
      "Retrieved 1 nodes.\n",
      "----------------------Retrieved nodes:----------------------\n",
      "------------------------------------------------------------\n",
      "ตามที่ไม่มีข้อมูลในเนื้อหาที่ให้มาเกี่ยวกับการเปิดแอร์หรือวิธีการรับมือกับความร้อน ดังนั้นจึงไม่สามารถตอบคำถามได้อย่างชัดเจน โดยทั่วไปแล้ว การเปิดแอร์สามารถช่วยลดอุณหภูมิและทำให้รู้สึกเย็นสบายขึ้น แต่ควรพิจารณาถึงการใช้พลังงานและการประหยัดค่าไฟฟ้าด้วย\n",
      "\n",
      "หากมีข้อมูลเพิ่มเติมในเนื้อหาที่เกี่ยวข้องกับมาตรการหรือข้อกำหนดในการเปิดแอร์ จะสามารถให้คำตอบที่ชัดเจนมากขึ้นได้\n"
     ]
    }
   ],
   "source": [
    "query = \"\"\"\n",
    "ร้อนทำยังไงดี เปิดแอร์ได้ไหม\n",
    "\"\"\"\n",
    "response = pipeline.query(query, verbose=True)\n",
    "print(response.text)"
   ]
  },
  {
   "cell_type": "code",
   "execution_count": null,
   "id": "0efd0768",
   "metadata": {},
   "outputs": [],
   "source": []
  }
 ],
 "metadata": {
  "kernelspec": {
   "display_name": "law",
   "language": "python",
   "name": "python3"
  },
  "language_info": {
   "codemirror_mode": {
    "name": "ipython",
    "version": 3
   },
   "file_extension": ".py",
   "mimetype": "text/x-python",
   "name": "python",
   "nbconvert_exporter": "python",
   "pygments_lexer": "ipython3",
   "version": "3.10.16"
  }
 },
 "nbformat": 4,
 "nbformat_minor": 5
}
