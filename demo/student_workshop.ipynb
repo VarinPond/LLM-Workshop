{
 "cells": [
  {
   "cell_type": "markdown",
   "id": "6e05dce9",
   "metadata": {},
   "source": [
    "# RAG"
   ]
  },
  {
   "cell_type": "code",
   "execution_count": 1,
   "id": "daa167a8",
   "metadata": {},
   "outputs": [
    {
     "data": {
      "application/vnd.jupyter.widget-view+json": {
       "model_id": "7f921feb8f084b06a146ede373c0f562",
       "version_major": 2,
       "version_minor": 0
      },
      "text/plain": [
       "Parsing nodes:   0%|          | 0/4 [00:00<?, ?it/s]"
      ]
     },
     "metadata": {},
     "output_type": "display_data"
    },
    {
     "data": {
      "application/vnd.jupyter.widget-view+json": {
       "model_id": "6ba6b4fbbf904f59b1b5efe513789d15",
       "version_major": 2,
       "version_minor": 0
      },
      "text/plain": [
       "Generating embeddings:   0%|          | 0/4 [00:00<?, ?it/s]"
      ]
     },
     "metadata": {},
     "output_type": "display_data"
    }
   ],
   "source": [
    "from lawbuddy.rag import SimpleRagPipeline, Hybrid, Hyde, QueryTransformType\n",
    "\n",
    "pipeline = SimpleRagPipeline.from_api(\n",
    "    model=\"typhoon-v2-70b-instruct\",\n",
    "    api_base=\"https://api.opentyphoon.ai/v1\",\n",
    "    context_window=8192,\n",
    "    is_chat_model=True,\n",
    "    max_tokens=768*2,\n",
    "    is_function_calling_model=False,\n",
    "    api_key=\"sk-ZHBoHGDDtUW9UlFvdYyfMldgGJdHJPwc4s18bUN249BmyXDq\"\n",
    ")\n",
    "pipeline.create_vector_store(csv_paths=['student_rules.csv'], save_dir=\"spaces/simple_rag_student_rules\")\n",
    "pipeline.load_vector_store(path=\"spaces/simple_rag_student_rules\")"
   ]
  },
  {
   "cell_type": "code",
   "execution_count": 4,
   "id": "6b6e45d3",
   "metadata": {},
   "outputs": [
    {
     "name": "stdout",
     "output_type": "stream",
     "text": [
      "----------------------Retrieved nodes:----------------------\n",
      "Score: 8.0\n",
      ": 0\n",
      "ข้อที่: 3\n",
      "เนื้อหา: เปิดแอร์ได้ตั้งแต่เที่ยงถึงเที่ยงคืน\n",
      "\n",
      "Score: 5.0\n",
      ": 0\n",
      "ข้อที่: 2\n",
      "เนื้อหา: พาเพื่อนข้างนอกมาห้องได้มากที่สุด 2 คน\n",
      "\n",
      "------------------------------------------------------------\n",
      "ตามมาตราที่ 3 คุณสามารถเปิดแอร์ได้ตั้งแต่เที่ยงถึงเที่ยงคืน ดังนั้นคุณสามารถเปิดแอร์ได้ในช่วงเวลาดังกล่าวครับ\n"
     ]
    }
   ],
   "source": [
    "query = \"\"\"\n",
    "อยากเปิดแอร์ครับ\n",
    "\"\"\"\n",
    "response = pipeline.query(query, verbose=True)\n",
    "print(response)"
   ]
  },
  {
   "cell_type": "markdown",
   "id": "5a1a8997",
   "metadata": {},
   "source": [
    "# Hybrid Search"
   ]
  },
  {
   "cell_type": "code",
   "execution_count": 5,
   "id": "deb1e1c3",
   "metadata": {},
   "outputs": [
    {
     "data": {
      "application/vnd.jupyter.widget-view+json": {
       "model_id": "0d96591c1f6c4135a94d2bbf25437c2a",
       "version_major": 2,
       "version_minor": 0
      },
      "text/plain": [
       "Parsing nodes:   0%|          | 0/4 [00:00<?, ?it/s]"
      ]
     },
     "metadata": {},
     "output_type": "display_data"
    },
    {
     "data": {
      "application/vnd.jupyter.widget-view+json": {
       "model_id": "b106130504ca4045963cf02a1c26d359",
       "version_major": 2,
       "version_minor": 0
      },
      "text/plain": [
       "Generating embeddings:   0%|          | 0/4 [00:00<?, ?it/s]"
      ]
     },
     "metadata": {},
     "output_type": "display_data"
    }
   ],
   "source": [
    "from lawbuddy.rag import SimpleRagPipeline, Hybrid, Hyde, QueryTransformType\n",
    "\n",
    "pipeline = Hybrid.from_api(\n",
    "    model=\"typhoon-v2-70b-instruct\",\n",
    "    api_base=\"https://api.opentyphoon.ai/v1\",\n",
    "    context_window=8192,\n",
    "    is_chat_model=True,\n",
    "    max_tokens=768*2,\n",
    "    is_function_calling_model=False,\n",
    "    api_key=\"sk-ZHBoHGDDtUW9UlFvdYyfMldgGJdHJPwc4s18bUN249BmyXDq\"\n",
    ") \n",
    "\n",
    "pipeline.create_vector_store(csv_paths=['student_rules.csv'], save_dir=\"spaces/hybrid_rag_student_rules\")\n",
    "pipeline.load_vector_store(path=\"spaces/hybrid_rag_student_rules\")"
   ]
  },
  {
   "cell_type": "code",
   "execution_count": 7,
   "id": "3563c7e6",
   "metadata": {},
   "outputs": [
    {
     "name": "stdout",
     "output_type": "stream",
     "text": [
      "Retrieved 1 nodes.\n",
      "----------------------Retrieved nodes:----------------------\n",
      "Score: 10.0\n",
      ": 0\n",
      "ข้อที่: 3\n",
      "เนื้อหา: เปิดแอร์ได้ตั้งแต่เที่ยงถึงเที่ยงคืน\n",
      "\n",
      "------------------------------------------------------------\n",
      "ตามที่ระบุในเนื้อหา มาตรา 3 ระบุว่า \"เปิดแอร์ได้ตั้งแต่เที่ยงถึงเที่ยงคืน\" ดังนั้น หากคุณร้อน สามารถเปิดแอร์ได้ในระยะเวลาที่กำหนดค่ะ\n"
     ]
    }
   ],
   "source": [
    "query = \"\"\"\n",
    "ร้อนทำยังไงดี เปิดแอร์ได้ไหม\n",
    "\"\"\"\n",
    "response = pipeline.query(query, verbose=True)\n",
    "print(response)"
   ]
  },
  {
   "cell_type": "code",
   "execution_count": null,
   "id": "0efd0768",
   "metadata": {},
   "outputs": [],
   "source": []
  }
 ],
 "metadata": {
  "kernelspec": {
   "display_name": "law",
   "language": "python",
   "name": "python3"
  },
  "language_info": {
   "codemirror_mode": {
    "name": "ipython",
    "version": 3
   },
   "file_extension": ".py",
   "mimetype": "text/x-python",
   "name": "python",
   "nbconvert_exporter": "python",
   "pygments_lexer": "ipython3",
   "version": "3.11.11"
  }
 },
 "nbformat": 4,
 "nbformat_minor": 5
}
